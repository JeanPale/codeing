{
 "cells": [
  {
   "cell_type": "code",
   "execution_count": 1,
   "metadata": {},
   "outputs": [],
   "source": [
    "import numpy\n",
    "import math\n",
    "import matplotlib.pyplot\n",
    "import time"
   ]
  },
  {
   "cell_type": "code",
   "execution_count": 2,
   "metadata": {},
   "outputs": [],
   "source": [
    "def mx_xpanshn(M1,M2):\n",
    "    \n",
    "    assert(M1.shape[1]==M2.shape[0])\n",
    "    \n",
    "    mxd = numpy.max([*M1.shape,*M2.shape])\n",
    "    d = numpy.int32(2**(numpy.ceil(numpy.log2(mxd))))\n",
    "    \n",
    "    nM1 = numpy.zeros((d,d))\n",
    "    nM2 = numpy.zeros((d,d))\n",
    "    \n",
    "    nM1[:M1.shape[0],:M1.shape[1]] = M1\n",
    "    nM2[:M2.shape[0],:M2.shape[1]] = M2\n",
    "    \n",
    "    return nM1, nM2"
   ]
  },
  {
   "cell_type": "code",
   "execution_count": 3,
   "metadata": {},
   "outputs": [],
   "source": [
    "def Strassen(A,B):\n",
    "    \n",
    "    dims = [A.shape[0], A.shape[1], B.shape[0], B.shape[1]]\n",
    "    \n",
    "    if not ((len(set(dims))) and (numpy.log2(A.shape[0])%1==0)):\n",
    "        A,B = mx_xpanshn(A,B)\n",
    "    \n",
    "    N = A.shape[0]\n",
    "    \n",
    "    if N == 1: return A*B\n",
    "    \n",
    "    n = N//2\n",
    "    \n",
    "    A11 = A[:n,:n]\n",
    "    A12 = A[:n,n:]\n",
    "    A21 = A[n:,:n]\n",
    "    A22 = A[n:,n:]\n",
    "    \n",
    "    B11 = B[:n,:n]\n",
    "    B12 = B[:n,n:]\n",
    "    B21 = B[n:,:n]\n",
    "    B22 = B[n:,n:]\n",
    "    \n",
    "    P1 = Strassen(A11 + A22, B11 + B22)\n",
    "    P2 = Strassen(A21 + A22, B11)\n",
    "    P3 = Strassen(A11, B12 - B22)\n",
    "    P4 = Strassen(A22, B21 - B11)\n",
    "    P5 = Strassen(A11 + A12, B22)\n",
    "    P6 = Strassen(A21 - A11, B11 + B12)\n",
    "    P7 = Strassen(A12 - A22, B21 + B22)\n",
    "    \n",
    "    C11 = P1 + P4 - P5 + P7 \n",
    "    C12 = P3 + P5\n",
    "    C21 = P2 + P4\n",
    "    C22 = P1 - P2 + P3 + P6\n",
    "    \n",
    "    C = numpy.zeros((N,N))\n",
    "    \n",
    "    C[:n,:n] = C11 \n",
    "    C[:n,n:] = C12\n",
    "    C[n:,:n] = C21\n",
    "    C[n:,n:] = C22\n",
    "    \n",
    "    return C[:dims[0], :dims[3]]\n"
   ]
  },
  {
   "cell_type": "code",
   "execution_count": 4,
   "metadata": {},
   "outputs": [],
   "source": [
    "def multipl_std(A,B):\n",
    "    \n",
    "    dims= [A.shape[0], A.shape[1], B.shape[0], B.shape[1]]\n",
    "    \n",
    "    if not ((len(set(dims))) and (numpy.log2(A.shape[0])%1==0)):\n",
    "        A,B = mx_xpanshn(A,B)\n",
    "    \n",
    "    N = A.shape[0]\n",
    "    \n",
    "    if N == 1: return A*B\n",
    "    \n",
    "    n = N//2\n",
    "    \n",
    "    A11 = A[:n,:n]\n",
    "    A12 = A[:n,n:]\n",
    "    A21 = A[n:,:n]\n",
    "    A22 = A[n:,n:]\n",
    "    \n",
    "    B11 = B[:n,:n]\n",
    "    B12 = B[:n,n:]\n",
    "    B21 = B[n:,:n]\n",
    "    B22 = B[n:,n:]\n",
    "    \n",
    "    C11 = multipl_std(A11, B11) + multipl_std(A12, B21)\n",
    "    C12 = multipl_std(A11, B12) + multipl_std(A12, B22)\n",
    "    C21 = multipl_std(A21, B11) + multipl_std(A22, B21)\n",
    "    C22 = multipl_std(A21, B12) + multipl_std(A22, B22)\n",
    "    \n",
    "    C = numpy.zeros((N,N))\n",
    "    \n",
    "    C[:n,:n] = C11 \n",
    "    C[:n,n:] = C12\n",
    "    C[n:,:n] = C21\n",
    "    C[n:,n:] = C22\n",
    "    \n",
    "    return C[:dims[0], :dims[3]]"
   ]
  },
  {
   "cell_type": "code",
   "execution_count": 5,
   "metadata": {},
   "outputs": [],
   "source": [
    "A = numpy.random.rand(3,2)"
   ]
  },
  {
   "cell_type": "code",
   "execution_count": 6,
   "metadata": {},
   "outputs": [],
   "source": [
    "B = numpy.random.rand(2,3)"
   ]
  },
  {
   "cell_type": "code",
   "execution_count": 7,
   "metadata": {},
   "outputs": [
    {
     "data": {
      "text/plain": [
       "array([[1.34963848, 0.12465513, 0.39732044],\n",
       "       [0.76595969, 0.05972673, 0.39785614],\n",
       "       [0.87135294, 0.06830355, 0.44698952]])"
      ]
     },
     "execution_count": 7,
     "metadata": {},
     "output_type": "execute_result"
    }
   ],
   "source": [
    "A@B"
   ]
  },
  {
   "cell_type": "code",
   "execution_count": 8,
   "metadata": {},
   "outputs": [
    {
     "data": {
      "text/plain": [
       "array([[1.34963848, 0.12465513, 0.39732044],\n",
       "       [0.76595969, 0.05972673, 0.39785614],\n",
       "       [0.87135294, 0.06830355, 0.44698952]])"
      ]
     },
     "execution_count": 8,
     "metadata": {},
     "output_type": "execute_result"
    }
   ],
   "source": [
    "Strassen(A, B)"
   ]
  },
  {
   "cell_type": "code",
   "execution_count": 9,
   "metadata": {},
   "outputs": [
    {
     "data": {
      "text/plain": [
       "array([[1.34963848, 0.12465513, 0.39732044],\n",
       "       [0.76595969, 0.05972673, 0.39785614],\n",
       "       [0.87135294, 0.06830355, 0.44698952]])"
      ]
     },
     "execution_count": 9,
     "metadata": {},
     "output_type": "execute_result"
    }
   ],
   "source": [
    "multipl_std(A,B)"
   ]
  },
  {
   "cell_type": "code",
   "execution_count": null,
   "metadata": {},
   "outputs": [],
   "source": [
    "N = 1024\n",
    "Strassen_timeS = []\n",
    "multipl_std_timeS = []\n",
    "\n",
    "total_process_time = 0\n",
    "process_start  = time.time()\n",
    "\n",
    "for i in range(1,N):\n",
    "    \n",
    "    strassen_total_time = 0\n",
    "    multipl_std_total_time = 0\n",
    "   \n",
    "    randA = numpy.random.rand(2**i, 2**i)\n",
    "    randB = numpy.random.rand(2**i, 2**i)\n",
    "\n",
    "    start = time.time()\n",
    "    Strassen(randA, randB)\n",
    "    finish = time.time()\n",
    "    strassen_total_time += finish - start\n",
    "\n",
    "    start = time.time()\n",
    "    multipl_std(randA, randB)\n",
    "    finish = time.time()\n",
    "    multipl_std_total_time += finish - start\n",
    "\n",
    "    Strassen_timeS.append(strassen_total_time)\n",
    "    multipl_std_timeS.append(multipl_std_total_time)\n",
    "\n",
    "process_finish  = time.time()\n",
    "total_process_time += process_finish - process_start\n",
    "\n",
    "\n",
    "matplotlib.pyplot.plot(2**numpy.arange(1,N),Strassen_timeS)\n",
    "matplotlib.pyplot.plot(2**numpy.arange(1,N),multipl_std_timeS)\n",
    "matplotlib.pyplot.legend(['Strassen','standart mltpl'])\n",
    "\n",
    "#matplotlib.pyplot.plot(2**numpy.arange(1,N),Strassen_timeS)\n",
    " \n",
    "                                   # Расчёт времени всего процесса \n",
    "\n",
    "tp_hrs = total_process_time//3600\n",
    "tp_mnts = (total_process_time - tp_hrs*3600)//60\n",
    "tp_scnds = total_process_time - tp_hrs*3600 - tp_mnts*60\n",
    "print(\"Расчеты заняли всего лишь\", int(tp_hrs), \"часов\", int(tp_mnts), \"минут\", int(tp_scnds), \"секунд!\" ) \n",
    "    \n"
   ]
  },
  {
   "cell_type": "code",
   "execution_count": null,
   "metadata": {},
   "outputs": [],
   "source": []
  }
 ],
 "metadata": {
  "kernelspec": {
   "display_name": "Python 3",
   "language": "python",
   "name": "python3"
  },
  "language_info": {
   "codemirror_mode": {
    "name": "ipython",
    "version": 3
   },
   "file_extension": ".py",
   "mimetype": "text/x-python",
   "name": "python",
   "nbconvert_exporter": "python",
   "pygments_lexer": "ipython3",
   "version": "3.8.3"
  }
 },
 "nbformat": 4,
 "nbformat_minor": 4
}
