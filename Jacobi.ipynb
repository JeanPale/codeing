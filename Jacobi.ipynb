{
 "cells": [
  {
   "cell_type": "code",
   "execution_count": 1,
   "metadata": {},
   "outputs": [],
   "source": [
    "import numpy\n",
    "import math\n",
    "#import matplotlib.pyplot\n",
    "#import time"
   ]
  },
  {
   "cell_type": "code",
   "execution_count": 10,
   "metadata": {},
   "outputs": [],
   "source": [
    "def band_m(n):\n",
    "    return numpy.eye(n)*2 - numpy.eye(n, k = 1) - numpy.eye(n, k = -1)"
   ]
  },
  {
   "cell_type": "code",
   "execution_count": 17,
   "metadata": {},
   "outputs": [
    {
     "name": "stdout",
     "output_type": "stream",
     "text": [
      "[[ 2. -1.  0.  0.]\n",
      " [-1.  2. -1.  0.]\n",
      " [ 0. -1.  2. -1.]\n",
      " [ 0.  0. -1.  2.]] \n",
      "\n",
      "[[ 3.61803399e+00 -1.41142359e-09 -3.07057478e-14  7.51409774e-17]\n",
      " [-1.41142301e-09  2.61803399e+00  2.45111724e-17  2.64584944e-23]\n",
      " [-3.01660055e-14  1.07706733e-16  1.38196601e+00 -1.03397577e-25]\n",
      " [-2.20502987e-16 -4.78359829e-16  2.87751996e-16  3.81966011e-01]] \n",
      "\n",
      "[3.61803399 2.61803399 1.38196601 0.38196601] \n",
      "\n",
      "[3.61803399 2.61803399 0.38196601 1.38196601]\n"
     ]
    }
   ],
   "source": [
    "A = band_m(4)\n",
    "eps = 1e-6\n",
    "def mxT(A, i, j, eps):\n",
    "        \n",
    "    n = len(A)\n",
    "    T = numpy.eye(n)\n",
    "    \n",
    "    if A[i,i] - A[j,j] < eps:\n",
    "        T[i,i] = numpy.cos(numpy.pi/4)\n",
    "        T[i,j] = -numpy.sin(numpy.pi/4)\n",
    "        T[j,i] = numpy.sin(numpy.pi/4)\n",
    "        T[j,j] = numpy.cos(numpy.pi/4)\n",
    "    else:\n",
    "        tau = (A[i,i] - A[j,j])/(2*A[i,j])\n",
    "        t = numpy.sign(tau)/(abs(tau) + numpy.sqrt(1 + tau**2))\n",
    "        cosO = 1/numpy.sqrt(1+t**2)\n",
    "        sinO = cosO*t\n",
    "        \n",
    "        T[i,i] = cosO\n",
    "        T[i,j] = -sinO\n",
    "        T[j,i] = sinO\n",
    "        T[j,j] = cosO\n",
    "        \n",
    "    return T\n",
    "\n",
    "def Jacobi(A, eps):\n",
    "    n = len(A)\n",
    "    while numpy.linalg.norm(A - numpy.diag(numpy.diag(A))) > eps:\n",
    "        for i in range(0, n - 1):\n",
    "            for j in range (i + 1, n):\n",
    "                T = mxT(A, i, j, eps)\n",
    "                A = T.T @ A @ T\n",
    "    return A\n",
    "\n",
    "print(A, \"\\n\")       \n",
    "print(Jacobi(A, eps), \"\\n\")\n",
    "print(numpy.diag(Jacobi(A,eps)), \"\\n\")\n",
    "print(numpy.linalg.eigvals(A))"
   ]
  },
  {
   "cell_type": "code",
   "execution_count": null,
   "metadata": {},
   "outputs": [],
   "source": []
  }
 ],
 "metadata": {
  "kernelspec": {
   "display_name": "Python 3",
   "language": "python",
   "name": "python3"
  },
  "language_info": {
   "codemirror_mode": {
    "name": "ipython",
    "version": 3
   },
   "file_extension": ".py",
   "mimetype": "text/x-python",
   "name": "python",
   "nbconvert_exporter": "python",
   "pygments_lexer": "ipython3",
   "version": "3.8.3"
  }
 },
 "nbformat": 4,
 "nbformat_minor": 4
}
